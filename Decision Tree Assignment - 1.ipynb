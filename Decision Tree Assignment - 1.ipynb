{
 "cells": [
  {
   "cell_type": "markdown",
   "id": "6d8becbb-d21a-4c5e-b3c6-c892fb6ca519",
   "metadata": {},
   "source": [
    "Q1. Describe the decision tree classifier algorithm and how it works to make predictions.\n",
    "\n",
    "Answer ->"
   ]
  },
  {
   "cell_type": "markdown",
   "id": "ea347719-aa1d-4bbd-8ba2-4eeead524f60",
   "metadata": {},
   "source": [
    "A decision tree classifier uses a tree-like model of decisions and their possible consequences. It splits data into branches based on feature values, \n",
    "with each node representing a feature test and each leaf node representing a class label. Predictions are made by traversing the tree from the root to a leaf node, \n",
    "following the path determined by the feature values.\n"
   ]
  },
  {
   "cell_type": "markdown",
   "id": "08b8d786-7a4f-4e61-9d90-e30efc59d9c5",
   "metadata": {},
   "source": [
    "Q2. Provide a step-by-step explanation of the mathematical intuition behind decision tree classification.\n",
    "\n",
    "Answer->"
   ]
  },
  {
   "cell_type": "markdown",
   "id": "a78c15ec-b92b-4e2a-a222-eaaa39a5b532",
   "metadata": {},
   "source": [
    "* Calculate Entropy: Measure the impurity of a dataset.\n",
    "* Information Gain: Compute the reduction in entropy by splitting data on each feature.\n",
    "* Choose Best Feature: Select the feature with the highest information gain.\n",
    "* Split Data: Divide the dataset based on the chosen feature.\n",
    "* Repeat: Recursively apply steps 1-4 to each subset until the stopping criterion is met (e.g., all data points in a node belong to the same class).\n"
   ]
  },
  {
   "cell_type": "markdown",
   "id": "46f85607-c9c9-434d-8cab-9256b9bfba42",
   "metadata": {},
   "source": [
    "Q3. Explain how a decision tree classifier can be used to solve a binary classification problem.\n",
    "\n",
    "Answer->"
   ]
  },
  {
   "cell_type": "markdown",
   "id": "c40f75bb-a597-4d3a-bb4c-5a3b628b94a6",
   "metadata": {},
   "source": [
    "A3. In binary classification, a decision tree splits the data into two classes. At each node, it selects the feature and threshold that best separate the two classes. \n",
    "The tree continues to split until it either perfectly classifies the training data or meets a stopping criterion. The class of new instances is determined by the majority \n",
    "class in the corresponding leaf node.\n"
   ]
  },
  {
   "cell_type": "markdown",
   "id": "567774c0-b98c-4a64-a568-db71f5d5035e",
   "metadata": {},
   "source": [
    "Q4. Discuss the geometric intuition behind decision tree classification and how it can be used to make predictions.\n",
    "\n",
    "Answer ->"
   ]
  },
  {
   "cell_type": "markdown",
   "id": "585b25b4-a940-4d25-a7f1-8e006630024a",
   "metadata": {},
   "source": [
    "Geometrically, decision tree classification partitions the feature space into rectangular regions. Each split corresponds to a decision boundary that separates the data into different classes. \n",
    "Predictions are made by determining which region a new data point falls into and assigning the majority class of that region."
   ]
  },
  {
   "cell_type": "markdown",
   "id": "c7282d4e-4068-4706-a849-8558c80a542c",
   "metadata": {},
   "source": [
    "Q5. Define the confusion matrix and describe how it can be used to evaluate the performance of a classification model.\n",
    "\n",
    "Answer ->"
   ]
  },
  {
   "cell_type": "markdown",
   "id": "48d862ed-790f-46b3-abd3-be361badfd42",
   "metadata": {},
   "source": [
    "A confusion matrix is a table that shows the performance of a classification model. It compares the predicted class labels with the true class labels and has four quadrants: \n",
    "True Positive (TP), True Negative (TN), False Positive (FP), and False Negative (FN). It helps evaluate metrics like accuracy, precision, recall, and F1 score.\n"
   ]
  },
  {
   "cell_type": "markdown",
   "id": "971c8067-409a-456d-b900-4c7281d90e99",
   "metadata": {},
   "source": [
    "Q6. Provide an example of a confusion matrix and explain how precision, recall, and F1 score can be calculated from it.\n",
    "\n",
    "Answer ->"
   ]
  },
  {
   "cell_type": "markdown",
   "id": "2642eb46-2813-43a2-a96e-c360b999adfd",
   "metadata": {},
   "source": [
    "Example Confusion Matrix:\n",
    "\n",
    "Predicted Positive\tPredicted Negative\n",
    "* Actual Positive\tTP = 50\tFN = 10\n",
    "* Actual Negative\tFP = 5\tTN = 100\n",
    "* Precision = TP / (TP + FP) = 50 / (50 + 5) = 0.91\n",
    "* Recall = TP / (TP + FN) = 50 / (50 + 10) = 0.83\n",
    "* F1 Score = 2 * (Precision * Recall) / (Precision + Recall) = 2 * (0.91 * 0.83) / (0.91 + 0.83) = 0.87\n"
   ]
  },
  {
   "cell_type": "markdown",
   "id": "b7b3be88-baa1-40fd-a64d-a62e04040741",
   "metadata": {},
   "source": [
    "Q7. Discuss the importance of choosing an appropriate evaluation metric for a classification problem and explain how this can be done.\n",
    "\n",
    "Answer ->"
   ]
  },
  {
   "cell_type": "markdown",
   "id": "f7314412-1702-482b-8b70-fe76e6499014",
   "metadata": {},
   "source": [
    "Choosing the right evaluation metric is crucial as it aligns with the problem's goals. Metrics should reflect the cost of different types of errors. For example, in medical diagnosis, \n",
    "recall might be more important to minimize false negatives. Metrics can be chosen by analyzing the problem's context and stakeholders' needs."
   ]
  },
  {
   "cell_type": "markdown",
   "id": "611897f8-a564-42d9-a5b8-2b30b4a43a6d",
   "metadata": {},
   "source": [
    "Q8. Provide an example of a classification problem where precision is the most important metric, and explain why.\n",
    "\n",
    "Answer ->"
   ]
  },
  {
   "cell_type": "markdown",
   "id": "0c4581f2-2156-49b6-af98-8d7f9ffbb5f1",
   "metadata": {},
   "source": [
    "In email spam detection, precision is crucial because a high false positive rate (classifying legitimate emails as spam) can lead to important emails being missed. \n",
    "Precision ensures that most classified spam emails are indeed spam, minimizing this risk.\n"
   ]
  },
  {
   "cell_type": "markdown",
   "id": "94c2f9b5-2577-4d1a-b4fb-663ca48c195f",
   "metadata": {},
   "source": [
    "Q9. Provide an example of a classification problem where recall is the most important metric, and explain why.\n",
    "\n",
    "Answer ->"
   ]
  },
  {
   "cell_type": "markdown",
   "id": "572b72e1-7ff4-4e47-9db5-3df56684c08f",
   "metadata": {},
   "source": [
    "In cancer screening, recall is paramount because missing a positive case (false negative) can have severe consequences. High recall ensures that most actual \n",
    "positive cases are identified, even if it means more false positives that can be verified later."
   ]
  },
  {
   "cell_type": "code",
   "execution_count": null,
   "id": "4dc53c16-73fe-46b9-8a17-fc666d83a2d2",
   "metadata": {},
   "outputs": [],
   "source": []
  }
 ],
 "metadata": {
  "kernelspec": {
   "display_name": "Python 3 (ipykernel)",
   "language": "python",
   "name": "python3"
  },
  "language_info": {
   "codemirror_mode": {
    "name": "ipython",
    "version": 3
   },
   "file_extension": ".py",
   "mimetype": "text/x-python",
   "name": "python",
   "nbconvert_exporter": "python",
   "pygments_lexer": "ipython3",
   "version": "3.10.8"
  }
 },
 "nbformat": 4,
 "nbformat_minor": 5
}
